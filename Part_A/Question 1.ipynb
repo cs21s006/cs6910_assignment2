{
 "cells": [
  {
   "cell_type": "code",
   "execution_count": 1,
   "metadata": {},
   "outputs": [],
   "source": [
    "import torch\n",
    "from torch import nn\n",
    "from models import Model"
   ]
  },
  {
   "cell_type": "markdown",
   "metadata": {},
   "source": [
    "### Define Model"
   ]
  },
  {
   "cell_type": "code",
   "execution_count": 2,
   "metadata": {},
   "outputs": [
    {
     "name": "stdout",
     "output_type": "stream",
     "text": [
      "Model:  Model(\n",
      "  (activation): ReLU()\n",
      "  (conv_blocks): ConvolutionBlocks(\n",
      "    (activation): ReLU()\n",
      "    (conv1): Conv2d(3, 16, kernel_size=(5, 5), stride=(1, 1), padding=(1, 1), bias=False)\n",
      "    (conv2): Conv2d(16, 16, kernel_size=(5, 5), stride=(1, 1), padding=(1, 1), bias=False)\n",
      "    (conv3): Conv2d(16, 16, kernel_size=(5, 5), stride=(1, 1), padding=(1, 1), bias=False)\n",
      "    (conv4): Conv2d(16, 16, kernel_size=(5, 5), stride=(1, 1), padding=(1, 1), bias=False)\n",
      "    (conv5): Conv2d(16, 16, kernel_size=(5, 5), stride=(1, 1), padding=(1, 1), bias=False)\n",
      "    (pool): MaxPool2d(kernel_size=(2, 2), stride=(2, 2), padding=0, dilation=1, ceil_mode=False)\n",
      "  )\n",
      "  (fc1): Linear(in_features=16, out_features=32, bias=True)\n",
      "  (output): Linear(in_features=32, out_features=10, bias=True)\n",
      ")\n"
     ]
    }
   ],
   "source": [
    "# Sample Hyperparameters\n",
    "activation = nn.ReLU()\n",
    "num_filters = 16\n",
    "filter_size = 5\n",
    "in_channels = 3\n",
    "neurons_dense = 32\n",
    "\n",
    "# Instantiate Model\n",
    "model = Model(in_channels,num_filters,filter_size,activation,neurons_dense, (1, 3, 100, 100))\n",
    "print('Model: ', model)"
   ]
  },
  {
   "cell_type": "markdown",
   "metadata": {},
   "source": [
    "### Forward Pass"
   ]
  },
  {
   "cell_type": "code",
   "execution_count": 3,
   "metadata": {},
   "outputs": [
    {
     "name": "stdout",
     "output_type": "stream",
     "text": [
      "INPUT:  torch.Size([64, 3, 100, 100])\n",
      "OUTPUT:  torch.Size([64, 10])\n"
     ]
    }
   ],
   "source": [
    "sample_input = torch.randn(64,3,100,100)\n",
    "print('INPUT: ', sample_input.shape)\n",
    "output = model(sample_input)\n",
    "print('OUTPUT: ', output.shape)"
   ]
  },
  {
   "cell_type": "code",
   "execution_count": null,
   "metadata": {},
   "outputs": [],
   "source": []
  }
 ],
 "metadata": {
  "interpreter": {
   "hash": "1e5c2b89e2813ad52a2faeaf925eda7fd17ab1385bfcd0ffcc5f7cb8800f56b1"
  },
  "kernelspec": {
   "display_name": "Python 3.8.10 ('ai')",
   "language": "python",
   "name": "python3"
  },
  "language_info": {
   "codemirror_mode": {
    "name": "ipython",
    "version": 3
   },
   "file_extension": ".py",
   "mimetype": "text/x-python",
   "name": "python",
   "nbconvert_exporter": "python",
   "pygments_lexer": "ipython3",
   "version": "3.8.10"
  },
  "orig_nbformat": 4
 },
 "nbformat": 4,
 "nbformat_minor": 2
}
